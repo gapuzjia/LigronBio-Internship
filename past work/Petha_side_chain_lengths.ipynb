{
 "cells": [
  {
   "cell_type": "code",
   "execution_count": 1,
   "metadata": {},
   "outputs": [],
   "source": [
    "import numpy as np\n",
    "from openpyxl import load_workbook\n",
    "import matplotlib.pyplot as plt\n",
    "from rdkit import Chem\n",
    "from rdkit.Chem import Draw, AllChem, rdMolTransforms"
   ]
  },
  {
   "cell_type": "code",
   "execution_count": 2,
   "metadata": {},
   "outputs": [],
   "source": [
    "wb = load_workbook('molecular_glues.xlsx')['Sheet1']\n",
    "data = []\n",
    "for row in wb.iter_rows(values_only=True):\n",
    "    data.append(row)\n",
    "data.pop(0)\n",
    "\n",
    "smiles_list = [d[0] for d in data]\n",
    "mols = [Chem.MolFromSmiles(s) for s in smiles_list]"
   ]
  },
  {
   "cell_type": "code",
   "execution_count": 3,
   "metadata": {},
   "outputs": [],
   "source": [
    "# scaff2 = Chem.MolFromSmiles('O=C1C(C)(N2C(=O)c3c(C2=O)cccc3)CCC(=O)N1')\n",
    "# scaff2_temp = Chem.MolFromSmiles('O=C1C(N2C(=O)c3c(C2=O)cccc3)CCC(=O)N1')\n",
    "scaff2_changed = Chem.MolFromSmiles('O=C1CCC(N2C(=O)c3ccccc3C2=O)C(=O)N1')\n",
    "\n",
    "# scaff1 = Chem.MolFromSmiles('O=C1C(C)(N2C(=O)c3c(cccc3)C2)CCC(=O)N1')\n",
    "# scaff1_temp = Chem.MolFromSmiles('O=C1C(N2C(=O)c3c(cccc3)C2)CCC(=O)N1')\n",
    "scaff1_changed = Chem.MolFromSmiles('O=C1CCC(N2Cc3ccccc3C2=O)C(=O)N1')\n",
    "\n",
    "mol1 = Chem.MolFromSmiles('O=CNC=O')\n",
    "ring = Chem.MolFromSmiles('O=C1CCCC(=O)N1')"
   ]
  },
  {
   "cell_type": "code",
   "execution_count": 4,
   "metadata": {},
   "outputs": [],
   "source": [
    "def view_smile(mol):\n",
    "    if isinstance(mol, str):\n",
    "        mol = Chem.MolFromSmiles(mol)\n",
    "    img = Draw.MolToImage(mol, legend='Labeled Carbons')\n",
    "    return img"
   ]
  },
  {
   "cell_type": "code",
   "execution_count": 5,
   "metadata": {},
   "outputs": [],
   "source": [
    "def categorize_mols(mols):\n",
    "    scaff1_list = []\n",
    "    scaff2_list = []\n",
    "    rings = []\n",
    "    others = []\n",
    "    \n",
    "    for mol in mols:\n",
    "        # Match with scaffold2\n",
    "        matches = mol.GetSubstructMatches(scaff2_changed)\n",
    "        if len(matches) > 0:\n",
    "            scaff2_list.append(mol)\n",
    "            continue\n",
    "        # Match with scaffold1\n",
    "        matches = mol.GetSubstructMatches(scaff1_changed)\n",
    "        if len(matches) > 0:\n",
    "            scaff1_list.append(mol)\n",
    "            continue\n",
    "        # Match with CNC\n",
    "        matches = mol.GetSubstructMatches(ring)\n",
    "        if len(matches) > 0:\n",
    "            rings.append(mol)\n",
    "            continue\n",
    "        others.append(mol)\n",
    "        continue\n",
    "        \n",
    "    return [scaff2_list, scaff1_list, rings, others]"
   ]
  },
  {
   "cell_type": "code",
   "execution_count": 6,
   "metadata": {},
   "outputs": [],
   "source": [
    "scaff2_list, scaff1_list, rings, others = categorize_mols(mols)\n",
    "# Glutermide\n",
    "if len(others) > 0:\n",
    "    raise Exception(\"No matches found\")"
   ]
  },
  {
   "cell_type": "code",
   "execution_count": 7,
   "metadata": {},
   "outputs": [
    {
     "data": {
      "text/plain": [
       "645"
      ]
     },
     "execution_count": 7,
     "metadata": {},
     "output_type": "execute_result"
    }
   ],
   "source": [
    "len(rings)"
   ]
  },
  {
   "cell_type": "code",
   "execution_count": 11,
   "metadata": {},
   "outputs": [],
   "source": [
    "def find_sidechain_lengths(mol):\n",
    "    # Match with scaffold2\n",
    "    if isinstance(mol, str):\n",
    "        mol = Chem.MolFromSmiles(mol)\n",
    "    \n",
    "    matches = mol.GetSubstructMatches(scaff2_changed)\n",
    "    if len(matches) > 0:\n",
    "        # Scaff2: 9, 10, 11, 12\n",
    "        startInd = [matches[0][9], matches[0][10], matches[0][11], matches[0][12]]\n",
    "        ringInd = [matches[0][8], matches[0][9], matches[0][10], matches[0][11], matches[0][12], matches[0][13]]\n",
    "        # Remove lines below if do not want to label atoms\n",
    "        mol.GetAtomWithIdx(matches[0][9]).SetProp(\"atomLabel\", \"R0\")\n",
    "        mol.GetAtomWithIdx(matches[0][10]).SetProp(\"atomLabel\", \"R1\")\n",
    "        mol.GetAtomWithIdx(matches[0][11]).SetProp(\"atomLabel\", \"R2\")\n",
    "        mol.GetAtomWithIdx(matches[0][12]).SetProp(\"atomLabel\", \"R3\")\n",
    "        return chain_length(mol, startInd, ringInd)\n",
    "\n",
    "    # Match with scaffold1\n",
    "    matches = mol.GetSubstructMatches(scaff1_changed)\n",
    "    if len(matches) > 0:\n",
    "        # Scaff1: 8, 9, 10, 11\n",
    "        startInd = [matches[0][8], matches[0][9], matches[0][10], matches[0][11]]\n",
    "        ringInd = [matches[0][7], matches[0][8], matches[0][9], matches[0][10], matches[0][11], matches[0][12]]\n",
    "        mol.GetAtomWithIdx(matches[0][8]).SetProp(\"atomLabel\", \"R0\")\n",
    "        mol.GetAtomWithIdx(matches[0][9]).SetProp(\"atomLabel\", \"R1\")\n",
    "        mol.GetAtomWithIdx(matches[0][10]).SetProp(\"atomLabel\", \"R2\")\n",
    "        mol.GetAtomWithIdx(matches[0][11]).SetProp(\"atomLabel\", \"R3\")\n",
    "        return chain_length(mol, startInd, ringInd)\n",
    "\n",
    "    # Match with CNC\n",
    "    matches = mol.GetSubstructMatches(ring)\n",
    "    if len(matches) > 0:\n",
    "        # rings: 2, 3, 4\n",
    "        startInd = [2, 3, 4]\n",
    "        ringInd = [1, 2, 3, 4, 5]\n",
    "        \n",
    "        startInd = [matches[0][2], matches[0][3], matches[0][4]]\n",
    "        ringInd = [matches[0][1], matches[0][2], matches[0][3], matches[0][4], matches[0][5]]\n",
    "        mol.GetAtomWithIdx(matches[0][2]).SetProp(\"atomLabel\", \"R0\")\n",
    "        mol.GetAtomWithIdx(matches[0][3]).SetProp(\"atomLabel\", \"R1\")\n",
    "        mol.GetAtomWithIdx(matches[0][4]).SetProp(\"atomLabel\", \"R2\")\n",
    "        return chain_length(mol, startInd, ringInd)\n",
    "    \n",
    "    raise Exception(\"No matches found\")\n",
    "    return"
   ]
  },
  {
   "cell_type": "code",
   "execution_count": 12,
   "metadata": {},
   "outputs": [],
   "source": [
    "def chain_length(mol, start_atom_idx, ring_idx):\n",
    "    # Add H\n",
    "    mol = Chem.AddHs(mol)\n",
    "    \n",
    "    # Optimize the geometry\n",
    "    AllChem.EmbedMolecule(mol, AllChem.ETKDG())\n",
    "    AllChem.UFFOptimizeMolecule(mol)\n",
    "\n",
    "    # Get the 3D coordinates\n",
    "    conf = mol.GetConformer()\n",
    "\n",
    "    visited = set()\n",
    "\n",
    "    def dfs(atom_idx, length):\n",
    "        visited.add(atom_idx)\n",
    "        max_length = length\n",
    "\n",
    "        for bond in mol.GetAtomWithIdx(atom_idx).GetBonds():\n",
    "            neighbor_idx = bond.GetOtherAtomIdx(atom_idx)\n",
    "            if neighbor_idx in ring_idx:\n",
    "                continue\n",
    "            if neighbor_idx not in visited:\n",
    "                bond_length = rdMolTransforms.GetBondLength(conf, atom_idx, neighbor_idx)\n",
    "                new_length = length + bond_length\n",
    "                max_length = max(max_length, dfs(neighbor_idx, new_length))\n",
    "\n",
    "        return max_length\n",
    "\n",
    "    out = []\n",
    "    for i in start_atom_idx:\n",
    "        visited = set()\n",
    "        total_length = dfs(i, 0.0)\n",
    "        out.append(total_length)\n",
    "    return out"
   ]
  },
  {
   "cell_type": "code",
   "execution_count": 13,
   "metadata": {},
   "outputs": [
    {
     "name": "stdout",
     "output_type": "stream",
     "text": [
      "[13.891285185406346, 1.1117923558784506, 1.1114370916473952]\n"
     ]
    },
    {
     "data": {
      "image/jpeg": "[encoded data removed]",
      "image/png": "[encoded data removed]",
      "text/plain": [
       "<PIL.PngImagePlugin.PngImageFile image mode=RGB size=300x300>"
      ]
     },
     "execution_count": 13,
     "metadata": {},
     "output_type": "execute_result"
    }
   ],
   "source": [
    "tempMol = rings[5]\n",
    "print(find_sidechain_lengths(tempMol))\n",
    "view_smile(tempMol)"
   ]
  },
  {
   "cell_type": "code",
   "execution_count": null,
   "metadata": {},
   "outputs": [],
   "source": []
  }
 ],
 "metadata": {
  "kernelspec": {
   "display_name": "Python 3",
   "language": "python",
   "name": "python3"
  },
  "language_info": {
   "codemirror_mode": {
    "name": "ipython",
    "version": 3
   },
   "file_extension": ".py",
   "mimetype": "text/x-python",
   "name": "python",
   "nbconvert_exporter": "python",
   "pygments_lexer": "ipython3",
   "version": "3.11.1"
  }
 },
 "nbformat": 4,
 "nbformat_minor": 2
}
